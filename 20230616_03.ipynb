{
 "cells": [
  {
   "cell_type": "code",
   "execution_count": 38,
   "metadata": {},
   "outputs": [],
   "source": [
    "# 로이터 뉴스 데이터 load, 뉴스 기사, 분류\n",
    "\n",
    "from tensorflow.keras.datasets import reuters\n",
    "from tensorflow.keras.preprocessing import sequence\n",
    "from tensorflow.keras.utils import to_categorical\n",
    "from tensorflow.keras.models import Sequential\n",
    "from tensorflow.keras.layers import Dense, Embedding, LSTM\n",
    "from tensorflow.keras.callbacks import EarlyStopping\n",
    "from tensorflow.keras.preprocessing.text import Tokenizer\n",
    "from tensorflow.keras.preprocessing.sequence import pad_sequences\n",
    "\n",
    "import numpy as np\n",
    "import matplotlib.pyplot as plt\n"
   ]
  },
  {
   "cell_type": "code",
   "execution_count": 2,
   "metadata": {},
   "outputs": [],
   "source": [
    "(x_train, y_train),(x_test, y_test) = reuters.load_data(num_words=1000,\n",
    "                                                        test_split = 0.2)"
   ]
  },
  {
   "cell_type": "code",
   "execution_count": 3,
   "metadata": {},
   "outputs": [
    {
     "name": "stdout",
     "output_type": "stream",
     "text": [
      "46\n"
     ]
    }
   ],
   "source": [
    "print(len(np.unique(y_train)))"
   ]
  },
  {
   "cell_type": "code",
   "execution_count": 4,
   "metadata": {},
   "outputs": [],
   "source": [
    "x_train = sequence.pad_sequences(x_train, maxlen=100)\n",
    "x_test = sequence.pad_sequences(x_test, maxlen=100)"
   ]
  },
  {
   "cell_type": "code",
   "execution_count": 5,
   "metadata": {},
   "outputs": [
    {
     "name": "stdout",
     "output_type": "stream",
     "text": [
      "(8982, 100) (2246, 100)\n"
     ]
    }
   ],
   "source": [
    "print(x_train.shape, x_test.shape)"
   ]
  },
  {
   "cell_type": "code",
   "execution_count": 6,
   "metadata": {},
   "outputs": [
    {
     "data": {
      "text/plain": [
       "(8982,)"
      ]
     },
     "execution_count": 6,
     "metadata": {},
     "output_type": "execute_result"
    }
   ],
   "source": [
    "y = to_categorical(y_train)\n",
    "#y_test = to_categorical(y_test)\n",
    "y_train.shape"
   ]
  },
  {
   "cell_type": "code",
   "execution_count": 7,
   "metadata": {},
   "outputs": [
    {
     "name": "stdout",
     "output_type": "stream",
     "text": [
      "Model: \"sequential\"\n",
      "_________________________________________________________________\n",
      " Layer (type)                Output Shape              Param #   \n",
      "=================================================================\n",
      " embedding (Embedding)       (None, None, 100)         100000    \n",
      "                                                                 \n",
      " lstm (LSTM)                 (None, 100)               80400     \n",
      "                                                                 \n",
      " dense (Dense)               (None, 46)                4646      \n",
      "                                                                 \n",
      "=================================================================\n",
      "Total params: 185,046\n",
      "Trainable params: 185,046\n",
      "Non-trainable params: 0\n",
      "_________________________________________________________________\n"
     ]
    }
   ],
   "source": [
    "model = Sequential()\n",
    "model.add(Embedding(1000,100))\n",
    "model.add(LSTM(100,activation = 'tanh'))\n",
    "model.add(Dense(46,activation = 'softmax'))\n",
    "\n",
    "model.summary()"
   ]
  },
  {
   "cell_type": "code",
   "execution_count": 8,
   "metadata": {},
   "outputs": [],
   "source": [
    "model.compile(loss='sparse_categorical_crossentropy', optimizer='adam', metrics=['accuracy'])"
   ]
  },
  {
   "cell_type": "code",
   "execution_count": 9,
   "metadata": {},
   "outputs": [
    {
     "name": "stdout",
     "output_type": "stream",
     "text": [
      "Epoch 1/200\n",
      "450/450 [==============================] - 20s 41ms/step - loss: 2.2054 - accuracy: 0.4344 - val_loss: 2.0188 - val_accuracy: 0.4893\n",
      "Epoch 2/200\n",
      "450/450 [==============================] - 18s 41ms/step - loss: 1.6997 - accuracy: 0.5573 - val_loss: 1.6511 - val_accuracy: 0.5757\n",
      "Epoch 3/200\n",
      "450/450 [==============================] - 19s 42ms/step - loss: 1.5526 - accuracy: 0.5959 - val_loss: 1.5479 - val_accuracy: 0.6051\n",
      "Epoch 4/200\n",
      "450/450 [==============================] - 19s 42ms/step - loss: 1.3945 - accuracy: 0.6495 - val_loss: 1.3697 - val_accuracy: 0.6670\n",
      "Epoch 5/200\n",
      "450/450 [==============================] - 19s 42ms/step - loss: 1.2372 - accuracy: 0.6874 - val_loss: 1.3072 - val_accuracy: 0.6692\n",
      "Epoch 6/200\n",
      "450/450 [==============================] - 19s 42ms/step - loss: 1.1196 - accuracy: 0.7170 - val_loss: 1.2272 - val_accuracy: 0.6963\n",
      "Epoch 7/200\n",
      "450/450 [==============================] - 19s 43ms/step - loss: 1.0373 - accuracy: 0.7384 - val_loss: 1.1912 - val_accuracy: 0.7021\n",
      "Epoch 8/200\n",
      "450/450 [==============================] - 19s 42ms/step - loss: 0.9517 - accuracy: 0.7605 - val_loss: 1.1740 - val_accuracy: 0.7110\n",
      "Epoch 9/200\n",
      "450/450 [==============================] - 19s 43ms/step - loss: 0.8741 - accuracy: 0.7798 - val_loss: 1.1390 - val_accuracy: 0.7240\n",
      "Epoch 10/200\n",
      "450/450 [==============================] - 20s 43ms/step - loss: 0.8047 - accuracy: 0.7966 - val_loss: 1.1397 - val_accuracy: 0.7257\n",
      "Epoch 11/200\n",
      "450/450 [==============================] - 20s 43ms/step - loss: 0.7428 - accuracy: 0.8110 - val_loss: 1.1085 - val_accuracy: 0.7306\n",
      "Epoch 12/200\n",
      "450/450 [==============================] - 20s 43ms/step - loss: 0.6783 - accuracy: 0.8306 - val_loss: 1.1494 - val_accuracy: 0.7337\n",
      "Epoch 13/200\n",
      "450/450 [==============================] - 19s 43ms/step - loss: 0.6275 - accuracy: 0.8442 - val_loss: 1.1600 - val_accuracy: 0.7324\n",
      "Epoch 14/200\n",
      "450/450 [==============================] - 20s 43ms/step - loss: 0.5769 - accuracy: 0.8570 - val_loss: 1.2012 - val_accuracy: 0.7217\n",
      "Epoch 15/200\n",
      "450/450 [==============================] - 19s 43ms/step - loss: 0.5323 - accuracy: 0.8661 - val_loss: 1.2349 - val_accuracy: 0.7244\n",
      "Epoch 16/200\n",
      "450/450 [==============================] - 19s 42ms/step - loss: 0.4865 - accuracy: 0.8792 - val_loss: 1.2751 - val_accuracy: 0.7195\n"
     ]
    }
   ],
   "source": [
    "early_stopping = EarlyStopping(monitor='val_loss', patience=5)\n",
    "history = model.fit(x_train,y_train,epochs=200, batch_size=20,validation_data=(x_test, y_test), callbacks=[early_stopping])"
   ]
  },
  {
   "cell_type": "code",
   "execution_count": 10,
   "metadata": {},
   "outputs": [
    {
     "name": "stdout",
     "output_type": "stream",
     "text": [
      "71/71 [==============================] - 1s 17ms/step - loss: 1.2751 - accuracy: 0.7195\n",
      "test 데이터의 정확도 :  0.7195013165473938\n"
     ]
    }
   ],
   "source": [
    "print('test 데이터의 정확도 : ', model.evaluate(x_test, y_test)[1])"
   ]
  },
  {
   "cell_type": "code",
   "execution_count": 11,
   "metadata": {},
   "outputs": [],
   "source": [
    "y_vloss = history.history['val_loss']\n",
    "y_loss = history.history['loss']"
   ]
  },
  {
   "cell_type": "code",
   "execution_count": 13,
   "metadata": {},
   "outputs": [
    {
     "data": {
      "image/png": "[encoded data removed]",
      "text/plain": [
       "<Figure size 640x480 with 1 Axes>"
      ]
     },
     "metadata": {},
     "output_type": "display_data"
    }
   ],
   "source": [
    "x_len = np.arange(len(y_loss))\n",
    "\n",
    "plt.plot(x_len, y_vloss, marker = '.', c='red', label = 'Testset_loss')\n",
    "plt.plot(x_len, y_loss, marker = '.', c='blue', label = 'Trainset_loss')\n",
    "\n",
    "plt.legend(loc = 'upper right')\n",
    "plt.grid()\n",
    "plt.xlabel('epoch')\n",
    "plt.ylabel('loss')\n",
    "plt.show()"
   ]
  },
  {
   "cell_type": "code",
   "execution_count": 24,
   "metadata": {},
   "outputs": [],
   "source": [
    "## LSTM과 CNN을 활용한 데이터 분석 (영화 리뷰 - 긍정 / 주정)\n",
    "\n",
    "from tensorflow.keras.models import Sequential\n",
    "from tensorflow.keras.layers import Dense, Dropout, Activation,MaxPooling1D, Conv1D, LSTM, Embedding\n",
    "from tensorflow.keras.datasets import imdb # 영화 리뷰 자료\n",
    "from tensorflow.keras.preprocessing import sequence # pad_sequences 활용하기 위해\n",
    "from tensorflow.keras.callbacks import EarlyStopping\n",
    "\n",
    "import pandas as pd\n",
    "\n"
   ]
  },
  {
   "cell_type": "code",
   "execution_count": 15,
   "metadata": {},
   "outputs": [
    {
     "name": "stdout",
     "output_type": "stream",
     "text": [
      "Downloading data from https://storage.googleapis.com/tensorflow/tf-keras-datasets/imdb.npz\n",
      "17464789/17464789 [==============================] - 2s 0us/step\n",
      "(25000,) (25000,)\n"
     ]
    }
   ],
   "source": [
    "(X_train, y_train), (X_test, y_test) = imdb.load_data(num_words=5000)\n",
    "\n",
    "print(X_train.shape, y_train.shape)"
   ]
  },
  {
   "cell_type": "code",
   "execution_count": 16,
   "metadata": {},
   "outputs": [],
   "source": [
    "# 단어의 수를 맞춤 -> sequence.pad_sequences(데이터, 사이즈)\n",
    "\n",
    "X_train = sequence.pad_sequences(X_train, maxlen=500)\n",
    "X_test = sequence.pad_sequences(X_test, maxlen=500)"
   ]
  },
  {
   "cell_type": "code",
   "execution_count": 17,
   "metadata": {},
   "outputs": [],
   "source": [
    "# 모델 생성\n",
    "model = Sequential()\n",
    "model.add(Embedding(5000, 100)) # 단어 임베딩\n",
    "model.add(Dropout(0.5)) # 노드 꺼줌(50%)\n",
    "model.add(Conv1D(64,5,activation = 'relu'))\n",
    "model.add(MaxPooling1D(4)) # maxpooling -> 25%로 줄어듬\n",
    "model.add(LSTM(55)) # node 수\n",
    "model.add(Dense(1, activation = 'sigmoid'))"
   ]
  },
  {
   "cell_type": "code",
   "execution_count": 18,
   "metadata": {},
   "outputs": [],
   "source": [
    "model.compile(loss='binary_crossentropy', metrics=['accuracy'], optimizer='adam')"
   ]
  },
  {
   "cell_type": "code",
   "execution_count": 20,
   "metadata": {},
   "outputs": [
    {
     "name": "stdout",
     "output_type": "stream",
     "text": [
      "Epoch 1/200\n",
      "469/469 [==============================] - 47s 96ms/step - loss: 0.4064 - accuracy: 0.7985 - val_loss: 0.2707 - val_accuracy: 0.8906\n",
      "Epoch 2/200\n",
      "469/469 [==============================] - 47s 100ms/step - loss: 0.2372 - accuracy: 0.9087 - val_loss: 0.2662 - val_accuracy: 0.8890\n",
      "Epoch 3/200\n",
      "469/469 [==============================] - 49s 104ms/step - loss: 0.1877 - accuracy: 0.9299 - val_loss: 0.2682 - val_accuracy: 0.8914\n",
      "Epoch 4/200\n",
      "469/469 [==============================] - 48s 102ms/step - loss: 0.1490 - accuracy: 0.9453 - val_loss: 0.2791 - val_accuracy: 0.8922\n",
      "Epoch 5/200\n",
      "469/469 [==============================] - 48s 102ms/step - loss: 0.1145 - accuracy: 0.9603 - val_loss: 0.3518 - val_accuracy: 0.8810\n"
     ]
    }
   ],
   "source": [
    "early_stopping = EarlyStopping(monitor='val_loss', patience= 3)\n",
    "## 모델 실행\n",
    "history = model.fit(X_train, y_train, batch_size= 40, epochs= 200, validation_split=0.25, callbacks= [early_stopping])"
   ]
  },
  {
   "cell_type": "code",
   "execution_count": 21,
   "metadata": {},
   "outputs": [],
   "source": [
    "y_vloss = history.history['val_loss']\n",
    "y_loss = history.history['loss']"
   ]
  },
  {
   "cell_type": "code",
   "execution_count": 22,
   "metadata": {},
   "outputs": [
    {
     "data": {
      "image/png": "[encoded data removed]",
      "text/plain": [
       "<Figure size 640x480 with 1 Axes>"
      ]
     },
     "metadata": {},
     "output_type": "display_data"
    }
   ],
   "source": [
    "x_len = np.arange(len(y_loss))\n",
    "\n",
    "plt.plot(x_len, y_vloss, marker = '.', c='red', label = 'Testset_loss')\n",
    "plt.plot(x_len, y_loss, marker = '.', c='blue', label = 'Trainset_loss')\n",
    "\n",
    "plt.legend(loc = 'upper right')\n",
    "plt.grid()\n",
    "plt.xlabel('epoch')\n",
    "plt.ylabel('loss')\n",
    "plt.show()"
   ]
  },
  {
   "cell_type": "code",
   "execution_count": 128,
   "metadata": {},
   "outputs": [],
   "source": [
    "data_train = pd.read_table('./data/ratings_train.txt')\n",
    "data_test =  pd.read_table('./data/ratings_test.txt')"
   ]
  },
  {
   "cell_type": "code",
   "execution_count": 129,
   "metadata": {},
   "outputs": [
    {
     "name": "stdout",
     "output_type": "stream",
     "text": [
      "<class 'pandas.core.frame.DataFrame'>\n",
      "RangeIndex: 150000 entries, 0 to 149999\n",
      "Data columns (total 3 columns):\n",
      " #   Column    Non-Null Count   Dtype \n",
      "---  ------    --------------   ----- \n",
      " 0   id        150000 non-null  int64 \n",
      " 1   document  149995 non-null  object\n",
      " 2   label     150000 non-null  int64 \n",
      "dtypes: int64(2), object(1)\n",
      "memory usage: 3.4+ MB\n"
     ]
    }
   ],
   "source": [
    "data_train.info()"
   ]
  },
  {
   "cell_type": "code",
   "execution_count": 130,
   "metadata": {},
   "outputs": [
    {
     "data": {
      "text/plain": [
       "document\n",
       "굿                                                                                                  181\n",
       "good                                                                                                92\n",
       "최고                                                                                                  85\n",
       "쓰레기                                                                                                 79\n",
       "별로                                                                                                  66\n",
       "                                                                                                  ... \n",
       "이런거 만드는 색휘는 진짜 일부로 욕처묵고싶어서 환장한색휘인듯                                                                   1\n",
       "이영화 평점이 궁금해서 왔는데.너무높다..^^                                                                            1\n",
       "시청자들에게 사과하세여 제작진..낚시성 예고 지친다..보기싫음 말아라 하고 만듬?조세호씨 때문에 넘웃기게 보는데요 낚시그만하시고 예고와 본방이 이어지는 연출부탁드립니다..      1\n",
       "여태본 영화중 단연 최고                                                                                        1\n",
       "한국 영화 최초로 수간하는 내용이 담긴 영화                                                                             1\n",
       "Name: count, Length: 146182, dtype: int64"
      ]
     },
     "execution_count": 130,
     "metadata": {},
     "output_type": "execute_result"
    }
   ],
   "source": [
    "data_train['document'].value_counts()"
   ]
  },
  {
   "cell_type": "code",
   "execution_count": 131,
   "metadata": {},
   "outputs": [],
   "source": [
    "data_train.drop_duplicates(subset=['document'], inplace = True)"
   ]
  },
  {
   "cell_type": "code",
   "execution_count": 132,
   "metadata": {},
   "outputs": [
    {
     "data": {
      "text/plain": [
       "document\n",
       "아 더빙.. 진짜 짜증나네요 목소리                                                                            1\n",
       "여러분은 지금 톰하디의 BMW광고를 보고계십니다                                                                     1\n",
       "무슨 성교육용 비디오도 아니고 이건 대체..                                                                       1\n",
       "여 형사 죽일때 부터 직쏘의 코드에서 벗어나 있었다 아만다로 인해 쏘우를 버리고 단순한 삼류 고어물로 바뀜                                    1\n",
       "재미없어요..진심입니다                                                                                   1\n",
       "                                                                                              ..\n",
       "이게 왜 수작이라는지 도저히 이해가 안되는 ...                                                                    1\n",
       "이 영화는 강우석 박찬욱영화보다 어떤의미에서는 정말 뛰어나다고 생각하는 1인. 한국 최고의 영화감독 윤성호.정말 주인공이 윤성호감독과 말하는스타일이 너무 비슷해서.    1\n",
       "쎄다.                                                                                            1\n",
       "ㅋㅋ진짜 재밌게 봤음 ㅋ                                                                                  1\n",
       "한국 영화 최초로 수간하는 내용이 담긴 영화                                                                       1\n",
       "Name: count, Length: 146182, dtype: int64"
      ]
     },
     "execution_count": 132,
     "metadata": {},
     "output_type": "execute_result"
    }
   ],
   "source": [
    "data_train['document'].value_counts()"
   ]
  },
  {
   "cell_type": "code",
   "execution_count": 133,
   "metadata": {},
   "outputs": [
    {
     "name": "stdout",
     "output_type": "stream",
     "text": [
      "<class 'pandas.core.frame.DataFrame'>\n",
      "Index: 146183 entries, 0 to 149999\n",
      "Data columns (total 3 columns):\n",
      " #   Column    Non-Null Count   Dtype \n",
      "---  ------    --------------   ----- \n",
      " 0   id        146183 non-null  int64 \n",
      " 1   document  146182 non-null  object\n",
      " 2   label     146183 non-null  int64 \n",
      "dtypes: int64(2), object(1)\n",
      "memory usage: 4.5+ MB\n"
     ]
    }
   ],
   "source": [
    "data_train.info()"
   ]
  },
  {
   "cell_type": "code",
   "execution_count": 134,
   "metadata": {},
   "outputs": [
    {
     "name": "stdout",
     "output_type": "stream",
     "text": [
      "145795\n"
     ]
    }
   ],
   "source": [
    "# 한글을 제외한 문자를 '' 로 변경\n",
    "data_train['document'] = data_train['document'].str.replace(r'[^ㄱ-ㅎㅏ-ㅣ가-힣 \" \"]', \n",
    "                                                          '', regex=True)\n",
    "# '' 를 np.nan  으로 변경 -> nan 을 제거\n",
    "data_train['document'].replace('', np.nan, inplace=True)\n",
    "data_train.dropna(inplace=True)\n",
    "\n",
    "print(len(data_train))"
   ]
  },
  {
   "cell_type": "code",
   "execution_count": 135,
   "metadata": {},
   "outputs": [
    {
     "name": "stdout",
     "output_type": "stream",
     "text": [
      "<class 'pandas.core.frame.DataFrame'>\n",
      "Index: 145795 entries, 0 to 149999\n",
      "Data columns (total 3 columns):\n",
      " #   Column    Non-Null Count   Dtype \n",
      "---  ------    --------------   ----- \n",
      " 0   id        145795 non-null  int64 \n",
      " 1   document  145795 non-null  object\n",
      " 2   label     145795 non-null  int64 \n",
      "dtypes: int64(2), object(1)\n",
      "memory usage: 4.4+ MB\n"
     ]
    }
   ],
   "source": [
    "data_train.info()"
   ]
  },
  {
   "cell_type": "code",
   "execution_count": 136,
   "metadata": {},
   "outputs": [],
   "source": [
    "x_train = data_train['document']\n",
    "y_train = data_train['label']"
   ]
  },
  {
   "cell_type": "code",
   "execution_count": 137,
   "metadata": {},
   "outputs": [],
   "source": [
    "# 1. 토큰화\n",
    "\n",
    "token = Tokenizer()\n",
    "token.fit_on_texts(x_train) # 리뷰 단어 토큰화"
   ]
  },
  {
   "cell_type": "code",
   "execution_count": 138,
   "metadata": {},
   "outputs": [],
   "source": [
    "# 토큰한 결과를 가지고 인덱스로 문장을 변환\n",
    "x = token.texts_to_sequences(x_train) # 문장의 단어를 token한 결과 단어의 인덱스로 변환"
   ]
  },
  {
   "cell_type": "code",
   "execution_count": 139,
   "metadata": {},
   "outputs": [],
   "source": [
    "padd_x = pad_sequences(x, 50)"
   ]
  },
  {
   "cell_type": "code",
   "execution_count": 140,
   "metadata": {},
   "outputs": [
    {
     "name": "stdout",
     "output_type": "stream",
     "text": [
      "<class 'pandas.core.frame.DataFrame'>\n",
      "RangeIndex: 50000 entries, 0 to 49999\n",
      "Data columns (total 3 columns):\n",
      " #   Column    Non-Null Count  Dtype \n",
      "---  ------    --------------  ----- \n",
      " 0   id        50000 non-null  int64 \n",
      " 1   document  49997 non-null  object\n",
      " 2   label     50000 non-null  int64 \n",
      "dtypes: int64(2), object(1)\n",
      "memory usage: 1.1+ MB\n"
     ]
    }
   ],
   "source": [
    "data_test.info()"
   ]
  },
  {
   "cell_type": "code",
   "execution_count": 141,
   "metadata": {},
   "outputs": [],
   "source": [
    "data_test.drop_duplicates(subset=['document'], inplace = True)"
   ]
  },
  {
   "cell_type": "code",
   "execution_count": 142,
   "metadata": {},
   "outputs": [
    {
     "data": {
      "text/plain": [
       "document\n",
       "굳 ㅋ                                                                                                                                            1\n",
       "4대강 살리긴는 절대로 안돼지라잉. 우덜 영산강만 살리면 돼제. 4대강 살리기 운운하는 넘있으면 배때지 쑤셔불고 민주화 시켜부러야돼. 카악퉤~~~                                                              1\n",
       "영화라고 부르기도 힘든 졸작                                                                                                                                1\n",
       "요즘엔 운널사 덕분에 행복한한주를 보내여!!..장혁씨의 연기력에 늘 박수를 보내며 스토리 진짜 짱!!!!..장나라씨도 넘 이쁘고 착하구 연기도 잘하시구,,조주연분들역시짱..나쁜 악역이 판치지않아 보는내내 힐링+해피랍니다...ㅎㅎ이런좋은잘품볼수있어쌩유    1\n",
       "웃음도 안나오는 개판.                                                                                                                                   1\n",
       "                                                                                                                                              ..\n",
       "정말 재미있었습니다. 앞으로도 좋은 이야기 부탁드려요~^^ 프로포즈대작전 파이팅!                                                                                                  1\n",
       "마지막장면이 정말 인상깊다                                                                                                                                 1\n",
       "아동용 좀비 공포영화네 18..내 생일이 12월 5일인데 신터클라스 같은 소리하고잇네18                                                                                              1\n",
       "애기가재밌게봤네요근데 상영관도 적고 시간대도 한타임 영등포는심지어 아침에상영해요..신림롯시가서봤어요 매진되서 예매안했으면 못봤을듯.                                                                      1\n",
       "마무리는 또 왜이래                                                                                                                                     1\n",
       "Name: count, Length: 49157, dtype: int64"
      ]
     },
     "execution_count": 142,
     "metadata": {},
     "output_type": "execute_result"
    }
   ],
   "source": [
    "data_test['document'].value_counts()"
   ]
  },
  {
   "cell_type": "code",
   "execution_count": 143,
   "metadata": {},
   "outputs": [
    {
     "name": "stdout",
     "output_type": "stream",
     "text": [
      "<class 'pandas.core.frame.DataFrame'>\n",
      "Index: 49158 entries, 0 to 49999\n",
      "Data columns (total 3 columns):\n",
      " #   Column    Non-Null Count  Dtype \n",
      "---  ------    --------------  ----- \n",
      " 0   id        49158 non-null  int64 \n",
      " 1   document  49157 non-null  object\n",
      " 2   label     49158 non-null  int64 \n",
      "dtypes: int64(2), object(1)\n",
      "memory usage: 1.5+ MB\n"
     ]
    }
   ],
   "source": [
    "data_test.info()"
   ]
  },
  {
   "cell_type": "code",
   "execution_count": 144,
   "metadata": {},
   "outputs": [
    {
     "name": "stdout",
     "output_type": "stream",
     "text": [
      "48995\n"
     ]
    }
   ],
   "source": [
    "# 한글을 제외한 문자를 '' 로 변경\n",
    "data_test['document'] = data_test['document'].str.replace(r'[^ㄱ-ㅎㅏ-ㅣ가-힣 \" \"]', \n",
    "                                                          '', regex=True)\n",
    "# '' 를 np.nan  으로 변경 -> nan 을 제거\n",
    "data_test['document'].replace('', np.nan, inplace=True)\n",
    "data_test.dropna(inplace=True)\n",
    "\n",
    "print(len(data_test))"
   ]
  },
  {
   "cell_type": "code",
   "execution_count": 145,
   "metadata": {},
   "outputs": [
    {
     "name": "stdout",
     "output_type": "stream",
     "text": [
      "<class 'pandas.core.frame.DataFrame'>\n",
      "Index: 48995 entries, 0 to 49999\n",
      "Data columns (total 3 columns):\n",
      " #   Column    Non-Null Count  Dtype \n",
      "---  ------    --------------  ----- \n",
      " 0   id        48995 non-null  int64 \n",
      " 1   document  48995 non-null  object\n",
      " 2   label     48995 non-null  int64 \n",
      "dtypes: int64(2), object(1)\n",
      "memory usage: 1.5+ MB\n"
     ]
    }
   ],
   "source": [
    "data_test.info()"
   ]
  },
  {
   "cell_type": "code",
   "execution_count": 146,
   "metadata": {},
   "outputs": [
    {
     "name": "stdout",
     "output_type": "stream",
     "text": [
      "Model: \"sequential_7\"\n",
      "_________________________________________________________________\n",
      " Layer (type)                Output Shape              Param #   \n",
      "=================================================================\n",
      " embedding_7 (Embedding)     (None, None, 8)           2396144   \n",
      "                                                                 \n",
      " dropout_6 (Dropout)         (None, None, 8)           0         \n",
      "                                                                 \n",
      " conv1d_6 (Conv1D)           (None, None, 64)          2624      \n",
      "                                                                 \n",
      " max_pooling1d_6 (MaxPooling  (None, None, 64)         0         \n",
      " 1D)                                                             \n",
      "                                                                 \n",
      " lstm_7 (LSTM)               (None, 55)                26400     \n",
      "                                                                 \n",
      " dense_7 (Dense)             (None, 1)                 56        \n",
      "                                                                 \n",
      "=================================================================\n",
      "Total params: 2,425,224\n",
      "Trainable params: 2,425,224\n",
      "Non-trainable params: 0\n",
      "_________________________________________________________________\n"
     ]
    }
   ],
   "source": [
    "# 모델 생성\n",
    "model = Sequential()\n",
    "model.add(Embedding(len(token.word_index) + 1, 8)) # 단어 임베딩\n",
    "model.add(Dropout(0.5)) # 노드 꺼줌(50%)\n",
    "model.add(Conv1D(64,5,activation = 'relu'))\n",
    "model.add(MaxPooling1D(4)) # maxpooling -> 25%로 줄어듬\n",
    "model.add(LSTM(55)) # node 수\n",
    "model.add(Dense(1, activation = 'sigmoid'))\n",
    "model.summary()"
   ]
  },
  {
   "cell_type": "code",
   "execution_count": 147,
   "metadata": {},
   "outputs": [],
   "source": [
    "model.compile(loss='binary_crossentropy', metrics=['accuracy'], optimizer='adam')"
   ]
  },
  {
   "cell_type": "code",
   "execution_count": 148,
   "metadata": {},
   "outputs": [
    {
     "name": "stdout",
     "output_type": "stream",
     "text": [
      "Epoch 1/200\n",
      "2734/2734 [==============================] - 76s 27ms/step - loss: 0.5802 - accuracy: 0.6627 - val_loss: 0.5144 - val_accuracy: 0.7212\n",
      "Epoch 2/200\n",
      "2734/2734 [==============================] - 74s 27ms/step - loss: 0.4303 - accuracy: 0.7796 - val_loss: 0.5170 - val_accuracy: 0.7242\n",
      "Epoch 3/200\n",
      "2734/2734 [==============================] - 71s 26ms/step - loss: 0.3375 - accuracy: 0.8275 - val_loss: 0.5499 - val_accuracy: 0.7200\n",
      "Epoch 4/200\n",
      "2734/2734 [==============================] - 71s 26ms/step - loss: 0.2927 - accuracy: 0.8481 - val_loss: 0.5906 - val_accuracy: 0.7158\n"
     ]
    }
   ],
   "source": [
    "early_stopping = EarlyStopping(monitor='val_loss', patience= 3)\n",
    "## 모델 실행\n",
    "history = model.fit(padd_x, y_train, batch_size= 40, epochs= 200, validation_split=0.25, callbacks= [early_stopping])"
   ]
  },
  {
   "cell_type": "code",
   "execution_count": 159,
   "metadata": {},
   "outputs": [],
   "source": [
    "x_test = data_test['document']\n",
    "y_test = data_test['label']"
   ]
  },
  {
   "cell_type": "code",
   "execution_count": 160,
   "metadata": {},
   "outputs": [],
   "source": [
    "# 1. 토큰화\n",
    "token.fit_on_texts(x_test) # 리뷰 단어 토큰화"
   ]
  },
  {
   "cell_type": "code",
   "execution_count": 161,
   "metadata": {},
   "outputs": [],
   "source": [
    "# 토큰한 결과를 가지고 인덱스로 문장을 변환\n",
    "x_test_1 = token.texts_to_sequences(x_test) # 문장의 단어를 token한 결과 단어의 인덱스로 변환"
   ]
  },
  {
   "cell_type": "code",
   "execution_count": 162,
   "metadata": {},
   "outputs": [],
   "source": [
    "padd_x_test = pad_sequences(x_test_1, 50)"
   ]
  },
  {
   "cell_type": "code",
   "execution_count": 163,
   "metadata": {},
   "outputs": [
    {
     "name": "stdout",
     "output_type": "stream",
     "text": [
      "1532/1532 [==============================] - 4s 3ms/step - loss: 1.2593 - accuracy: 0.5163\n",
      "0.5162567496299744\n"
     ]
    }
   ],
   "source": [
    "print(model.evaluate(padd_x_test,y_test)[1])"
   ]
  }
 ],
 "metadata": {
  "kernelspec": {
   "display_name": "py3.8",
   "language": "python",
   "name": "python3"
  },
  "language_info": {
   "codemirror_mode": {
    "name": "ipython",
    "version": 3
   },
   "file_extension": ".py",
   "mimetype": "text/x-python",
   "name": "python",
   "nbconvert_exporter": "python",
   "pygments_lexer": "ipython3",
   "version": "3.8.16"
  },
  "orig_nbformat": 4
 },
 "nbformat": 4,
 "nbformat_minor": 2
}
