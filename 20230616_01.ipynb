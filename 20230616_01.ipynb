{
 "cells": [
  {
   "cell_type": "code",
   "execution_count": 1,
   "metadata": {},
   "outputs": [],
   "source": [
    "## 네이버 영화감상\n",
    "\n",
    "# import urllib.request\n",
    "\n",
    "# urllib.request.urlretrieve(\"https://raw.githubusercontent.com/e9t/nsmc/master/ratings_train.txt\",\n",
    "#                             filename=\"./data/ratings_train.txt\")\n",
    "# urllib.request.urlretrieve(\"https://raw.githubusercontent.com/e9t/nsmc/master/ratings_test.txt\",\n",
    "#                             filename=\"./data/ratings_test.txt\")"
   ]
  },
  {
   "cell_type": "code",
   "execution_count": 2,
   "metadata": {},
   "outputs": [],
   "source": [
    "## 저장된 ./data/ratings_train.txt 로 영화 리뷰 모델링을 학습해서 모델 생성\n",
    "## ./data/ratings_train.txt 로 정확도를 확인해서 출력\n",
    "\n",
    "# 1. 데이터 로드\n",
    "# 2. 토큰화\n",
    "# 3. 단어 -> 숫자로 변화 시킴\n",
    "# 4. 문장의 사이즈를 동일하게\n",
    "# 5. 모델 설계 후 실행"
   ]
  },
  {
   "cell_type": "code",
   "execution_count": 3,
   "metadata": {},
   "outputs": [],
   "source": [
    "# %load tensor.py\n",
    "from tensorflow.keras.utils import to_categorical\n",
    "from tensorflow.keras.models import Sequential\n",
    "from tensorflow.keras.layers import Dense, Flatten, Embedding\n",
    "from tensorflow.keras.preprocessing.text import Tokenizer\n",
    "from tensorflow.keras.preprocessing.sequence import pad_sequences\n",
    "\n",
    "import matplotlib.pyplot as plt\n",
    "import pandas as pd\n",
    "import numpy as np"
   ]
  },
  {
   "cell_type": "code",
   "execution_count": 4,
   "metadata": {},
   "outputs": [],
   "source": [
    "data_train = pd.read_table('./data/ratings_train.txt')\n",
    "data_test =  pd.read_table('./data/ratings_test.txt')"
   ]
  },
  {
   "cell_type": "code",
   "execution_count": 5,
   "metadata": {},
   "outputs": [
    {
     "name": "stdout",
     "output_type": "stream",
     "text": [
      "<class 'pandas.core.frame.DataFrame'>\n",
      "RangeIndex: 150000 entries, 0 to 149999\n",
      "Data columns (total 3 columns):\n",
      " #   Column    Non-Null Count   Dtype \n",
      "---  ------    --------------   ----- \n",
      " 0   id        150000 non-null  int64 \n",
      " 1   document  149995 non-null  object\n",
      " 2   label     150000 non-null  int64 \n",
      "dtypes: int64(2), object(1)\n",
      "memory usage: 3.4+ MB\n"
     ]
    }
   ],
   "source": [
    "data_train.info()"
   ]
  },
  {
   "cell_type": "code",
   "execution_count": 6,
   "metadata": {},
   "outputs": [
    {
     "data": {
      "text/plain": [
       "document\n",
       "굿                                                                                                  181\n",
       "good                                                                                                92\n",
       "최고                                                                                                  85\n",
       "쓰레기                                                                                                 79\n",
       "별로                                                                                                  66\n",
       "                                                                                                  ... \n",
       "이런거 만드는 색휘는 진짜 일부로 욕처묵고싶어서 환장한색휘인듯                                                                   1\n",
       "이영화 평점이 궁금해서 왔는데.너무높다..^^                                                                            1\n",
       "시청자들에게 사과하세여 제작진..낚시성 예고 지친다..보기싫음 말아라 하고 만듬?조세호씨 때문에 넘웃기게 보는데요 낚시그만하시고 예고와 본방이 이어지는 연출부탁드립니다..      1\n",
       "여태본 영화중 단연 최고                                                                                        1\n",
       "한국 영화 최초로 수간하는 내용이 담긴 영화                                                                             1\n",
       "Name: count, Length: 146182, dtype: int64"
      ]
     },
     "execution_count": 6,
     "metadata": {},
     "output_type": "execute_result"
    }
   ],
   "source": [
    "data_train['document'].value_counts()"
   ]
  },
  {
   "cell_type": "code",
   "execution_count": 7,
   "metadata": {},
   "outputs": [],
   "source": [
    "data_train.drop_duplicates(subset=['document'], inplace = True)"
   ]
  },
  {
   "cell_type": "code",
   "execution_count": 8,
   "metadata": {},
   "outputs": [
    {
     "data": {
      "text/plain": [
       "document\n",
       "아 더빙.. 진짜 짜증나네요 목소리                                                                            1\n",
       "여러분은 지금 톰하디의 BMW광고를 보고계십니다                                                                     1\n",
       "무슨 성교육용 비디오도 아니고 이건 대체..                                                                       1\n",
       "여 형사 죽일때 부터 직쏘의 코드에서 벗어나 있었다 아만다로 인해 쏘우를 버리고 단순한 삼류 고어물로 바뀜                                    1\n",
       "재미없어요..진심입니다                                                                                   1\n",
       "                                                                                              ..\n",
       "이게 왜 수작이라는지 도저히 이해가 안되는 ...                                                                    1\n",
       "이 영화는 강우석 박찬욱영화보다 어떤의미에서는 정말 뛰어나다고 생각하는 1인. 한국 최고의 영화감독 윤성호.정말 주인공이 윤성호감독과 말하는스타일이 너무 비슷해서.    1\n",
       "쎄다.                                                                                            1\n",
       "ㅋㅋ진짜 재밌게 봤음 ㅋ                                                                                  1\n",
       "한국 영화 최초로 수간하는 내용이 담긴 영화                                                                       1\n",
       "Name: count, Length: 146182, dtype: int64"
      ]
     },
     "execution_count": 8,
     "metadata": {},
     "output_type": "execute_result"
    }
   ],
   "source": [
    "data_train['document'].value_counts()"
   ]
  },
  {
   "cell_type": "code",
   "execution_count": 9,
   "metadata": {},
   "outputs": [
    {
     "name": "stdout",
     "output_type": "stream",
     "text": [
      "<class 'pandas.core.frame.DataFrame'>\n",
      "Index: 146183 entries, 0 to 149999\n",
      "Data columns (total 3 columns):\n",
      " #   Column    Non-Null Count   Dtype \n",
      "---  ------    --------------   ----- \n",
      " 0   id        146183 non-null  int64 \n",
      " 1   document  146182 non-null  object\n",
      " 2   label     146183 non-null  int64 \n",
      "dtypes: int64(2), object(1)\n",
      "memory usage: 4.5+ MB\n"
     ]
    }
   ],
   "source": [
    "data_train.info()"
   ]
  },
  {
   "cell_type": "code",
   "execution_count": 10,
   "metadata": {},
   "outputs": [
    {
     "name": "stdout",
     "output_type": "stream",
     "text": [
      "145795\n"
     ]
    }
   ],
   "source": [
    "# 한글을 제외한 문자를 '' 로 변경\n",
    "data_train['document'] = data_train['document'].str.replace(r'[^ㄱ-ㅎㅏ-ㅣ가-힣 \" \"]', \n",
    "                                                          '', regex=True)\n",
    "# '' 를 np.nan  으로 변경 -> nan 을 제거\n",
    "data_train['document'].replace('', np.nan, inplace=True)\n",
    "data_train.dropna(inplace=True)\n",
    "\n",
    "print(len(data_train))"
   ]
  },
  {
   "cell_type": "code",
   "execution_count": 11,
   "metadata": {},
   "outputs": [
    {
     "name": "stdout",
     "output_type": "stream",
     "text": [
      "<class 'pandas.core.frame.DataFrame'>\n",
      "Index: 145795 entries, 0 to 149999\n",
      "Data columns (total 3 columns):\n",
      " #   Column    Non-Null Count   Dtype \n",
      "---  ------    --------------   ----- \n",
      " 0   id        145795 non-null  int64 \n",
      " 1   document  145795 non-null  object\n",
      " 2   label     145795 non-null  int64 \n",
      "dtypes: int64(2), object(1)\n",
      "memory usage: 4.4+ MB\n"
     ]
    }
   ],
   "source": [
    "data_train.info()"
   ]
  },
  {
   "cell_type": "code",
   "execution_count": 12,
   "metadata": {},
   "outputs": [],
   "source": [
    "x_train = data_train['document']\n",
    "y_train = data_train['label']"
   ]
  },
  {
   "cell_type": "code",
   "execution_count": 13,
   "metadata": {},
   "outputs": [],
   "source": [
    "# 1. 토큰화\n",
    "\n",
    "token = Tokenizer()\n",
    "token.fit_on_texts(x_train) # 리뷰 단어 토큰화\n",
    "\n",
    "# print(\"단어의 인덱스 : \", token.word_index,'\\n', len(token.word_index)) #총 단어수"
   ]
  },
  {
   "cell_type": "code",
   "execution_count": 14,
   "metadata": {},
   "outputs": [],
   "source": [
    "# 토큰한 결과를 가지고 인덱스로 문장을 변환\n",
    "x = token.texts_to_sequences(x_train) # 문장의 단어를 token한 결과 단어의 인덱스로 변환\n",
    "\n",
    "# print(x)"
   ]
  },
  {
   "cell_type": "code",
   "execution_count": 15,
   "metadata": {},
   "outputs": [],
   "source": [
    "padd_x = pad_sequences(x, 8)"
   ]
  },
  {
   "cell_type": "code",
   "execution_count": 18,
   "metadata": {},
   "outputs": [
    {
     "name": "stdout",
     "output_type": "stream",
     "text": [
      "Model: \"sequential\"\n",
      "_________________________________________________________________\n",
      " Layer (type)                Output Shape              Param #   \n",
      "=================================================================\n",
      " embedding (Embedding)       (None, 8, 8)              2396144   \n",
      "                                                                 \n",
      " flatten (Flatten)           (None, 64)                0         \n",
      "                                                                 \n",
      " dense (Dense)               (None, 1)                 65        \n",
      "                                                                 \n",
      "=================================================================\n",
      "Total params: 2,396,209\n",
      "Trainable params: 2,396,209\n",
      "Non-trainable params: 0\n",
      "_________________________________________________________________\n"
     ]
    }
   ],
   "source": [
    "# 딥러닝 모델 생성\n",
    "model = Sequential()\n",
    "model.add(Embedding(len(token.word_index) + 1, 8, input_length = 8)) # 총 단어수, 임베딩 사이즈, 입력 단어수\n",
    "model.add(Flatten()) # 다음 레이어를 위해 1차원 배열로 변환\n",
    "model.add(Dense(1,activation = 'sigmoid')) # 긍정 또는 부정이므로 활성함수는 sigmoid\n",
    "model.summary()"
   ]
  },
  {
   "cell_type": "code",
   "execution_count": 19,
   "metadata": {},
   "outputs": [
    {
     "name": "stdout",
     "output_type": "stream",
     "text": [
      "Epoch 1/20\n",
      "4557/4557 [==============================] - 105s 23ms/step - loss: 0.4992 - accuracy: 0.7500\n",
      "Epoch 2/20\n",
      "4557/4557 [==============================] - 104s 23ms/step - loss: 0.2589 - accuracy: 0.9128\n",
      "Epoch 3/20\n",
      "4557/4557 [==============================] - 104s 23ms/step - loss: 0.1286 - accuracy: 0.9595\n",
      "Epoch 4/20\n",
      "4557/4557 [==============================] - 103s 23ms/step - loss: 0.0703 - accuracy: 0.9770\n",
      "Epoch 5/20\n",
      "4557/4557 [==============================] - 103s 23ms/step - loss: 0.0439 - accuracy: 0.9856\n",
      "Epoch 6/20\n",
      "4557/4557 [==============================] - 105s 23ms/step - loss: 0.0310 - accuracy: 0.9897\n",
      "Epoch 7/20\n",
      "4557/4557 [==============================] - 104s 23ms/step - loss: 0.0229 - accuracy: 0.9923\n",
      "Epoch 8/20\n",
      "4557/4557 [==============================] - 104s 23ms/step - loss: 0.0185 - accuracy: 0.9936\n",
      "Epoch 9/20\n",
      "4557/4557 [==============================] - 103s 23ms/step - loss: 0.0153 - accuracy: 0.9946\n",
      "Epoch 10/20\n",
      "4557/4557 [==============================] - 102s 22ms/step - loss: 0.0132 - accuracy: 0.9953\n",
      "Epoch 11/20\n",
      "4557/4557 [==============================] - 103s 23ms/step - loss: 0.0118 - accuracy: 0.9956\n",
      "Epoch 12/20\n",
      "4557/4557 [==============================] - 103s 23ms/step - loss: 0.0107 - accuracy: 0.9959\n",
      "Epoch 13/20\n",
      "4557/4557 [==============================] - 103s 23ms/step - loss: 0.0099 - accuracy: 0.9963\n",
      "Epoch 14/20\n",
      "4557/4557 [==============================] - 104s 23ms/step - loss: 0.0092 - accuracy: 0.9966\n",
      "Epoch 15/20\n",
      "4557/4557 [==============================] - 105s 23ms/step - loss: 0.0087 - accuracy: 0.9967\n",
      "Epoch 16/20\n",
      "4557/4557 [==============================] - 104s 23ms/step - loss: 0.0085 - accuracy: 0.9967\n",
      "Epoch 17/20\n",
      "4557/4557 [==============================] - 103s 22ms/step - loss: 0.0080 - accuracy: 0.9968\n",
      "Epoch 18/20\n",
      "4557/4557 [==============================] - 104s 23ms/step - loss: 0.0078 - accuracy: 0.9969\n",
      "Epoch 19/20\n",
      "4557/4557 [==============================] - 105s 23ms/step - loss: 0.0076 - accuracy: 0.9969\n",
      "Epoch 20/20\n",
      "4557/4557 [==============================] - 105s 23ms/step - loss: 0.0075 - accuracy: 0.9969\n",
      "4557/4557 [==============================] - 5s 1ms/step - loss: 0.0065 - accuracy: 0.9974\n",
      "Accuracy :  0.9974004626274109\n"
     ]
    }
   ],
   "source": [
    "# 모델 컴파일\n",
    "model.compile(optimizer='adam', loss='binary_crossentropy', metrics=['accuracy'])\n",
    "# 모델 실행\n",
    "model.fit(padd_x, y_train, epochs= 20)\n",
    "print('Accuracy : ', model.evaluate(padd_x, y_train)[1])"
   ]
  },
  {
   "cell_type": "code",
   "execution_count": 21,
   "metadata": {},
   "outputs": [
    {
     "name": "stdout",
     "output_type": "stream",
     "text": [
      "<class 'pandas.core.frame.DataFrame'>\n",
      "RangeIndex: 50000 entries, 0 to 49999\n",
      "Data columns (total 3 columns):\n",
      " #   Column    Non-Null Count  Dtype \n",
      "---  ------    --------------  ----- \n",
      " 0   id        50000 non-null  int64 \n",
      " 1   document  49997 non-null  object\n",
      " 2   label     50000 non-null  int64 \n",
      "dtypes: int64(2), object(1)\n",
      "memory usage: 1.1+ MB\n"
     ]
    }
   ],
   "source": [
    "data_test.info()"
   ]
  },
  {
   "cell_type": "code",
   "execution_count": 22,
   "metadata": {},
   "outputs": [],
   "source": [
    "data_test.drop_duplicates(subset=['document'], inplace = True)"
   ]
  },
  {
   "cell_type": "code",
   "execution_count": 23,
   "metadata": {},
   "outputs": [
    {
     "data": {
      "text/plain": [
       "document\n",
       "굳 ㅋ                                                                                                                                            1\n",
       "4대강 살리긴는 절대로 안돼지라잉. 우덜 영산강만 살리면 돼제. 4대강 살리기 운운하는 넘있으면 배때지 쑤셔불고 민주화 시켜부러야돼. 카악퉤~~~                                                              1\n",
       "영화라고 부르기도 힘든 졸작                                                                                                                                1\n",
       "요즘엔 운널사 덕분에 행복한한주를 보내여!!..장혁씨의 연기력에 늘 박수를 보내며 스토리 진짜 짱!!!!..장나라씨도 넘 이쁘고 착하구 연기도 잘하시구,,조주연분들역시짱..나쁜 악역이 판치지않아 보는내내 힐링+해피랍니다...ㅎㅎ이런좋은잘품볼수있어쌩유    1\n",
       "웃음도 안나오는 개판.                                                                                                                                   1\n",
       "                                                                                                                                              ..\n",
       "정말 재미있었습니다. 앞으로도 좋은 이야기 부탁드려요~^^ 프로포즈대작전 파이팅!                                                                                                  1\n",
       "마지막장면이 정말 인상깊다                                                                                                                                 1\n",
       "아동용 좀비 공포영화네 18..내 생일이 12월 5일인데 신터클라스 같은 소리하고잇네18                                                                                              1\n",
       "애기가재밌게봤네요근데 상영관도 적고 시간대도 한타임 영등포는심지어 아침에상영해요..신림롯시가서봤어요 매진되서 예매안했으면 못봤을듯.                                                                      1\n",
       "마무리는 또 왜이래                                                                                                                                     1\n",
       "Name: count, Length: 49157, dtype: int64"
      ]
     },
     "execution_count": 23,
     "metadata": {},
     "output_type": "execute_result"
    }
   ],
   "source": [
    "data_test['document'].value_counts()"
   ]
  },
  {
   "cell_type": "code",
   "execution_count": 24,
   "metadata": {},
   "outputs": [
    {
     "name": "stdout",
     "output_type": "stream",
     "text": [
      "<class 'pandas.core.frame.DataFrame'>\n",
      "Index: 49158 entries, 0 to 49999\n",
      "Data columns (total 3 columns):\n",
      " #   Column    Non-Null Count  Dtype \n",
      "---  ------    --------------  ----- \n",
      " 0   id        49158 non-null  int64 \n",
      " 1   document  49157 non-null  object\n",
      " 2   label     49158 non-null  int64 \n",
      "dtypes: int64(2), object(1)\n",
      "memory usage: 1.5+ MB\n"
     ]
    }
   ],
   "source": [
    "data_test.info()"
   ]
  },
  {
   "cell_type": "code",
   "execution_count": 25,
   "metadata": {},
   "outputs": [
    {
     "name": "stdout",
     "output_type": "stream",
     "text": [
      "48995\n"
     ]
    }
   ],
   "source": [
    "# 한글을 제외한 문자를 '' 로 변경\n",
    "data_test['document'] = data_test['document'].str.replace(r'[^ㄱ-ㅎㅏ-ㅣ가-힣 \" \"]', \n",
    "                                                          '', regex=True)\n",
    "# '' 를 np.nan  으로 변경 -> nan 을 제거\n",
    "data_test['document'].replace('', np.nan, inplace=True)\n",
    "data_test.dropna(inplace=True)\n",
    "\n",
    "print(len(data_test))"
   ]
  },
  {
   "cell_type": "code",
   "execution_count": 26,
   "metadata": {},
   "outputs": [
    {
     "name": "stdout",
     "output_type": "stream",
     "text": [
      "<class 'pandas.core.frame.DataFrame'>\n",
      "Index: 48995 entries, 0 to 49999\n",
      "Data columns (total 3 columns):\n",
      " #   Column    Non-Null Count  Dtype \n",
      "---  ------    --------------  ----- \n",
      " 0   id        48995 non-null  int64 \n",
      " 1   document  48995 non-null  object\n",
      " 2   label     48995 non-null  int64 \n",
      "dtypes: int64(2), object(1)\n",
      "memory usage: 1.5+ MB\n"
     ]
    }
   ],
   "source": [
    "data_test.info()"
   ]
  },
  {
   "cell_type": "code",
   "execution_count": 27,
   "metadata": {},
   "outputs": [],
   "source": [
    "x_test = data_test['document']\n",
    "y_test = data_test['label']"
   ]
  },
  {
   "cell_type": "code",
   "execution_count": 28,
   "metadata": {},
   "outputs": [],
   "source": [
    "# 1. 토큰화\n",
    "\n",
    "token = Tokenizer()\n",
    "token.fit_on_texts(x_test) # 리뷰 단어 토큰화"
   ]
  },
  {
   "cell_type": "code",
   "execution_count": 29,
   "metadata": {},
   "outputs": [],
   "source": [
    "# 토큰한 결과를 가지고 인덱스로 문장을 변환\n",
    "x_test_1 = token.texts_to_sequences(x_test) # 문장의 단어를 token한 결과 단어의 인덱스로 변환"
   ]
  },
  {
   "cell_type": "code",
   "execution_count": 30,
   "metadata": {},
   "outputs": [],
   "source": [
    "padd_x_test = pad_sequences(x_test_1, 8)"
   ]
  },
  {
   "cell_type": "code",
   "execution_count": 31,
   "metadata": {},
   "outputs": [
    {
     "name": "stdout",
     "output_type": "stream",
     "text": [
      "1532/1532 [==============================] - 2s 1ms/step - loss: 3.7303 - accuracy: 0.5041\n"
     ]
    },
    {
     "data": {
      "text/plain": [
       "[3.7303245067596436, 0.5041330456733704]"
      ]
     },
     "execution_count": 31,
     "metadata": {},
     "output_type": "execute_result"
    }
   ],
   "source": [
    "model.evaluate(padd_x_test, y_test)"
   ]
  },
  {
   "cell_type": "code",
   "execution_count": null,
   "metadata": {},
   "outputs": [],
   "source": []
  }
 ],
 "metadata": {
  "kernelspec": {
   "display_name": "py3.8",
   "language": "python",
   "name": "python3"
  },
  "language_info": {
   "codemirror_mode": {
    "name": "ipython",
    "version": 3
   },
   "file_extension": ".py",
   "mimetype": "text/x-python",
   "name": "python",
   "nbconvert_exporter": "python",
   "pygments_lexer": "ipython3",
   "version": "3.8.16"
  },
  "orig_nbformat": 4
 },
 "nbformat": 4,
 "nbformat_minor": 2
}
