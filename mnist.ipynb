{
 "cells": [
  {
   "cell_type": "code",
   "execution_count": 11,
   "metadata": {},
   "outputs": [],
   "source": [
    "# %load tensor.py\n",
    "from tensorflow.keras.datasets import mnist\n",
    "from tensorflow.keras.utils import to_categorical\n",
    "from tensorflow.keras.models import Sequential\n",
    "from tensorflow.keras.layers import Dense, Dropout, Flatten,Conv2D, MaxPooling2D\n",
    "from tensorflow.keras.callbacks import ModelCheckpoint, EarlyStopping\n",
    "\n",
    "import matplotlib.pyplot as plt\n",
    "import numpy as np"
   ]
  },
  {
   "cell_type": "code",
   "execution_count": 3,
   "metadata": {},
   "outputs": [],
   "source": [
    "(X_train, y_train), (X_test,y_test) = mnist.load_data()"
   ]
  },
  {
   "cell_type": "code",
   "execution_count": 4,
   "metadata": {},
   "outputs": [],
   "source": [
    "X_train = X_train.reshape(X_train.shape[0], 28,28,1).astype('float32') / 255\n",
    "X_test = X_test.reshape(X_test.shape[0], 28,28,1).astype('float32') / 255\n",
    "\n",
    "y_train = to_categorical(y_train, 10)\n",
    "y_test = to_categorical(y_test, 10)"
   ]
  },
  {
   "cell_type": "code",
   "execution_count": 16,
   "metadata": {},
   "outputs": [
    {
     "data": {
      "text/plain": [
       "(60000, 28, 28, 1)"
      ]
     },
     "execution_count": 16,
     "metadata": {},
     "output_type": "execute_result"
    }
   ],
   "source": [
    "X_train.shape"
   ]
  },
  {
   "cell_type": "code",
   "execution_count": 5,
   "metadata": {},
   "outputs": [
    {
     "name": "stdout",
     "output_type": "stream",
     "text": [
      "Model: \"sequential\"\n",
      "_________________________________________________________________\n",
      " Layer (type)                Output Shape              Param #   \n",
      "=================================================================\n",
      " conv2d (Conv2D)             (None, 26, 26, 32)        320       \n",
      "                                                                 \n",
      " conv2d_1 (Conv2D)           (None, 24, 24, 64)        18496     \n",
      "                                                                 \n",
      " max_pooling2d (MaxPooling2D  (None, 12, 12, 64)       0         \n",
      " )                                                               \n",
      "                                                                 \n",
      " dropout (Dropout)           (None, 12, 12, 64)        0         \n",
      "                                                                 \n",
      " flatten (Flatten)           (None, 9216)              0         \n",
      "                                                                 \n",
      " dense (Dense)               (None, 128)               1179776   \n",
      "                                                                 \n",
      " dropout_1 (Dropout)         (None, 128)               0         \n",
      "                                                                 \n",
      " dense_1 (Dense)             (None, 10)                1290      \n",
      "                                                                 \n",
      "=================================================================\n",
      "Total params: 1,199,882\n",
      "Trainable params: 1,199,882\n",
      "Non-trainable params: 0\n",
      "_________________________________________________________________\n"
     ]
    }
   ],
   "source": [
    "model = Sequential()\n",
    "model.add(Conv2D(32, (3,3), input_shape = (28,28,1), activation = 'relu'))\n",
    "model.add(Conv2D(64, kernel_size = (3,3), activation = 'relu'))\n",
    "model.add(MaxPooling2D(pool_size = (2,2)))\n",
    "model.add(Dropout(0.25))\n",
    "model.add(Flatten())\n",
    "model.add(Dense(128, activation = 'relu'))\n",
    "model.add(Dropout(0.5))\n",
    "model.add(Dense(10, activation = 'softmax'))\n",
    "model.summary()"
   ]
  },
  {
   "cell_type": "code",
   "execution_count": 6,
   "metadata": {},
   "outputs": [],
   "source": [
    "model.compile(loss = 'categorical_crossentropy', optimizer = 'adam', metrics = ['accuracy'])"
   ]
  },
  {
   "cell_type": "code",
   "execution_count": 7,
   "metadata": {},
   "outputs": [],
   "source": [
    "model_path = './data/model/MNIST_CNN.hdf5'\n",
    "checkpointer = ModelCheckpoint(filepath=model_path, monitor= 'val_loss',\n",
    "                               verbose = 1, save_best_only = True)\n",
    "early_stopping = EarlyStopping(monitor='val_loss', patience=10)"
   ]
  },
  {
   "cell_type": "code",
   "execution_count": 8,
   "metadata": {},
   "outputs": [
    {
     "name": "stdout",
     "output_type": "stream",
     "text": [
      "\n",
      "Epoch 1: val_loss improved from inf to 0.07660, saving model to ./data/model\\MNIST_CNN.hdf5\n",
      "\n",
      "Epoch 2: val_loss improved from 0.07660 to 0.05810, saving model to ./data/model\\MNIST_CNN.hdf5\n",
      "\n",
      "Epoch 3: val_loss improved from 0.05810 to 0.05289, saving model to ./data/model\\MNIST_CNN.hdf5\n",
      "\n",
      "Epoch 4: val_loss improved from 0.05289 to 0.04602, saving model to ./data/model\\MNIST_CNN.hdf5\n",
      "\n",
      "Epoch 5: val_loss improved from 0.04602 to 0.04157, saving model to ./data/model\\MNIST_CNN.hdf5\n",
      "\n",
      "Epoch 6: val_loss did not improve from 0.04157\n",
      "\n",
      "Epoch 7: val_loss improved from 0.04157 to 0.04039, saving model to ./data/model\\MNIST_CNN.hdf5\n",
      "\n",
      "Epoch 8: val_loss did not improve from 0.04039\n",
      "\n",
      "Epoch 9: val_loss did not improve from 0.04039\n",
      "\n",
      "Epoch 10: val_loss did not improve from 0.04039\n",
      "\n",
      "Epoch 11: val_loss did not improve from 0.04039\n",
      "\n",
      "Epoch 12: val_loss did not improve from 0.04039\n",
      "\n",
      "Epoch 13: val_loss did not improve from 0.04039\n",
      "\n",
      "Epoch 14: val_loss did not improve from 0.04039\n",
      "\n",
      "Epoch 15: val_loss did not improve from 0.04039\n",
      "\n",
      "Epoch 16: val_loss improved from 0.04039 to 0.03958, saving model to ./data/model\\MNIST_CNN.hdf5\n",
      "\n",
      "Epoch 17: val_loss did not improve from 0.03958\n",
      "\n",
      "Epoch 18: val_loss did not improve from 0.03958\n",
      "\n",
      "Epoch 19: val_loss did not improve from 0.03958\n",
      "\n",
      "Epoch 20: val_loss did not improve from 0.03958\n",
      "\n",
      "Epoch 21: val_loss did not improve from 0.03958\n",
      "\n",
      "Epoch 22: val_loss did not improve from 0.03958\n",
      "\n",
      "Epoch 23: val_loss did not improve from 0.03958\n",
      "\n",
      "Epoch 24: val_loss did not improve from 0.03958\n",
      "\n",
      "Epoch 25: val_loss did not improve from 0.03958\n",
      "\n",
      "Epoch 26: val_loss did not improve from 0.03958\n"
     ]
    }
   ],
   "source": [
    "hist = model.fit(X_train, y_train, validation_split=0.25, epochs= 2000, batch_size= 200,\n",
    "                 verbose = 0, callbacks = [early_stopping, checkpointer])\n"
   ]
  },
  {
   "cell_type": "code",
   "execution_count": 9,
   "metadata": {},
   "outputs": [
    {
     "name": "stdout",
     "output_type": "stream",
     "text": [
      "313/313 [==============================] - 2s 7ms/step - loss: 0.0327 - accuracy: 0.9921\n",
      "Test accuracy :  0.9921000003814697\n"
     ]
    }
   ],
   "source": [
    "print(\"Test accuracy : \", model.evaluate(X_test, y_test)[1])"
   ]
  },
  {
   "cell_type": "code",
   "execution_count": 12,
   "metadata": {},
   "outputs": [],
   "source": [
    "y_vloss = hist.history['val_loss']\n",
    "y_loss = hist.history['loss']\n",
    "x_len = np.arange(len(y_loss))"
   ]
  },
  {
   "cell_type": "code",
   "execution_count": 13,
   "metadata": {},
   "outputs": [
    {
     "data": {
      "image/png": "[encoded data removed]",
      "text/plain": [
       "<Figure size 640x480 with 1 Axes>"
      ]
     },
     "metadata": {},
     "output_type": "display_data"
    }
   ],
   "source": [
    "plt.plot(x_len, y_vloss, marker = '.', c='red', label = 'Testset_loss')\n",
    "plt.plot(x_len, y_loss, marker = '.', c='blue', label = 'Trainset_loss')\n",
    "\n",
    "plt.legend(loc = 'upper right')\n",
    "plt.grid()\n",
    "plt.xlabel('epoch')\n",
    "plt.ylabel('loss')\n",
    "plt.show()"
   ]
  },
  {
   "cell_type": "code",
   "execution_count": 14,
   "metadata": {},
   "outputs": [
    {
     "data": {
      "text/plain": [
       "(10000, 28, 28, 1)"
      ]
     },
     "execution_count": 14,
     "metadata": {},
     "output_type": "execute_result"
    }
   ],
   "source": [
    "X_test.shape"
   ]
  },
  {
   "cell_type": "code",
   "execution_count": 17,
   "metadata": {},
   "outputs": [
    {
     "name": "stdout",
     "output_type": "stream",
     "text": [
      "313/313 [==============================] - 2s 7ms/step\n",
      "[[1.3278495e-17 4.7259410e-14 4.7827800e-14 ... 1.0000000e+00\n",
      "  3.0518813e-20 8.4985445e-14]\n",
      " [6.9786956e-14 4.9088649e-09 1.0000000e+00 ... 1.2075174e-18\n",
      "  1.5795995e-17 2.7886694e-18]\n",
      " [8.7839976e-15 1.0000000e+00 8.8522124e-12 ... 3.2402062e-10\n",
      "  2.5052977e-11 4.7478801e-13]\n",
      " ...\n",
      " [8.0118661e-25 7.5836689e-15 4.5854731e-20 ... 1.1084531e-13\n",
      "  2.7832003e-15 3.4082895e-13]\n",
      " [6.5580999e-19 1.6223039e-25 8.6756488e-27 ... 1.5869104e-21\n",
      "  8.3448500e-12 1.9853073e-19]\n",
      " [3.4323130e-15 3.4364443e-20 1.6083966e-17 ... 5.2344021e-26\n",
      "  3.0207998e-16 1.4965933e-21]]\n"
     ]
    }
   ],
   "source": [
    "print(model.predict(X_test))"
   ]
  },
  {
   "cell_type": "code",
   "execution_count": 18,
   "metadata": {},
   "outputs": [
    {
     "name": "stdout",
     "output_type": "stream",
     "text": [
      "313/313 [==============================] - 2s 7ms/step\n"
     ]
    }
   ],
   "source": [
    "pred = model.predict(X_test)"
   ]
  },
  {
   "cell_type": "code",
   "execution_count": 19,
   "metadata": {},
   "outputs": [
    {
     "data": {
      "text/plain": [
       "array([1.3278495e-17, 4.7259410e-14, 4.7827800e-14, 2.9161237e-15,\n",
       "       3.3507032e-17, 1.2883116e-18, 2.3007757e-26, 1.0000000e+00,\n",
       "       3.0518813e-20, 8.4985445e-14], dtype=float32)"
      ]
     },
     "execution_count": 19,
     "metadata": {},
     "output_type": "execute_result"
    }
   ],
   "source": [
    "pred[0]"
   ]
  },
  {
   "cell_type": "code",
   "execution_count": 20,
   "metadata": {},
   "outputs": [
    {
     "data": {
      "image/png": "[encoded data removed]",
      "text/plain": [
       "<Figure size 640x480 with 1 Axes>"
      ]
     },
     "metadata": {},
     "output_type": "display_data"
    }
   ],
   "source": [
    "plt.imshow(X_test[0], cmap='Greys')\n",
    "plt.show()"
   ]
  }
 ],
 "metadata": {
  "kernelspec": {
   "display_name": "py3.8",
   "language": "python",
   "name": "python3"
  },
  "language_info": {
   "codemirror_mode": {
    "name": "ipython",
    "version": 3
   },
   "file_extension": ".py",
   "mimetype": "text/x-python",
   "name": "python",
   "nbconvert_exporter": "python",
   "pygments_lexer": "ipython3",
   "version": "3.8.16"
  },
  "orig_nbformat": 4
 },
 "nbformat": 4,
 "nbformat_minor": 2
}
